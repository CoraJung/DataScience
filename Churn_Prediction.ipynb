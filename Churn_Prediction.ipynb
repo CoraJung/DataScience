{
 "cells": [
  {
   "cell_type": "markdown",
   "metadata": {},
   "source": [
    "# Churn Prediction Model"
   ]
  },
  {
   "cell_type": "markdown",
   "metadata": {},
   "source": [
    "Let's assume that $X$ and $Y$ are discrete random variables. The formulas for Mutual Information, Entropy and Conditional Entropy are given by:\n",
    "\n",
    "$$\\text{Mutual Information} = \\sum_{y \\in Y} \\sum_{x \\in X} p(x, y) \\cdot log\\frac{p(x, y)}{p(x)p(y)}$$\n",
    "\n",
    "$$\\text{Entropy} = H(Y) = -\\sum_{y \\in Y} p(y) \\cdot log(p(y))$$\n",
    "\n",
    "$$\\text{Conditional Entropy} = H(Y \\mid X) = \\sum_{x \\in X} p(x) \\cdot H(Y \\mid X = x)$$\n",
    "\n",
    "I will show mathematically that $\\text{Mutual Information} = \\text{Information Gain}$, where $\\text{Information Gain} = H(Y) – H(Y \\mid X)$."
   ]
  },
  {
   "cell_type": "markdown",
   "metadata": {},
   "source": [
    "$\n",
    "MI = \\sum_{y \\in Y} \\sum_{x \\in X} p(x, y) \\cdot log\\frac{p(x, y)}{p(x)p(y)}\\\\ \n",
    "= IG = -\\sum_{y \\in Y} p(y) \\cdot log(p(y)) - \\sum_{x \\in X} p(x) \\cdot H(Y \\mid X = x)\\\\\n",
    "= -\\sum_{y \\in Y} p(y) \\cdot log(p(y)) - \\sum_{x \\in X} p(x) \\cdot (-\\sum_{y \\in Y} p(y | x) \\cdot log(p(y | x))\\\\\n",
    "= \\sum_{y \\in Y} \\sum_{x \\in X} p(x, y) \\cdot log(p(y)) + \\sum_{y \\in Y} \\sum_{x \\in X} p(x, y) \\cdot log(p(y | x))\\\\\n",
    "= \\sum_{y \\in Y} \\sum_{x \\in X} p(x, y) \\cdot log \\frac{p(y|x)}{p(y)}\\\\\n",
    "= \\sum_{y \\in Y} \\sum_{x \\in X} p(x, y) \\cdot log \\frac{p(x|y)p(y)}{p(y)\\cdot p(x)}\\\\\n",
    "= \\sum_{y \\in Y} \\sum_{x \\in X} p(x, y) \\cdot log \\frac{p(x, y)}{p(y)\\cdot p(x)}\\\\\n",
    "$\\\\\n",
    "Thus, this proves that MI = IG!"
   ]
  },
  {
   "cell_type": "markdown",
   "metadata": {},
   "source": [
    "### Preparing a Training Set and Training a Decision Tree \n",
    "I will build a predictive model using Decision Trees by using the data in `cell2cell_data.csv`.\n",
    "\n",
    "These historical data consist of 39,859 customers: 19,901 customers that churned (i.e., left the company) and 19,958 that did not churn (see the `\"churndep\"` variable). Here are the data set's 11 possible predictor variables for churning behavior: \n",
    "\n",
    "```\n",
    "Pos.  Var. Name  Var. Description\n",
    "----- ---------- --------------------------------------------------------------\n",
    "1     revenue    Mean monthly revenue in dollars\n",
    "2     outcalls   Mean number of outbound voice calls\n",
    "3     incalls    Mean number of inbound voice calls\n",
    "4     months     Months in Service\n",
    "5     eqpdays    Number of days the customer has had his/her current equipment\n",
    "6     webcap     Handset is web capable\n",
    "7     marryyes   Married (1=Yes; 0=No)\n",
    "8     travel     Has traveled to non-US country (1=Yes; 0=No)\n",
    "9     pcown      Owns a personal computer (1=Yes; 0=No)\n",
    "10    creditcd   Possesses a credit card (1=Yes; 0=No)\n",
    "11    retcalls   Number of calls previously made to retention team\n",
    "```\n",
    "\n",
    "The 12th column, the dependent variable `\"churndep\"`, equals 1 if the customer churned, and 0 otherwise. "
   ]
  },
  {
   "cell_type": "markdown",
   "metadata": {},
   "source": [
    "1\\. I will load the data and prepare it for modeling.\n",
    "First, I will split the data into training and testing by using pandas to create two data frames: train_df and test_df, where train_df has 80% of the data chosen uniformly at random without replacement (test_df should have the other 20%). I didn't use data splitting functions from SKlearn here."
   ]
  },
  {
   "cell_type": "code",
   "execution_count": 1,
   "metadata": {
    "scrolled": false
   },
   "outputs": [
    {
     "data": {
      "text/html": [
       "<div>\n",
       "<style scoped>\n",
       "    .dataframe tbody tr th:only-of-type {\n",
       "        vertical-align: middle;\n",
       "    }\n",
       "\n",
       "    .dataframe tbody tr th {\n",
       "        vertical-align: top;\n",
       "    }\n",
       "\n",
       "    .dataframe thead th {\n",
       "        text-align: right;\n",
       "    }\n",
       "</style>\n",
       "<table border=\"1\" class=\"dataframe\">\n",
       "  <thead>\n",
       "    <tr style=\"text-align: right;\">\n",
       "      <th></th>\n",
       "      <th>0</th>\n",
       "      <th>1</th>\n",
       "      <th>2</th>\n",
       "      <th>3</th>\n",
       "      <th>4</th>\n",
       "      <th>5</th>\n",
       "      <th>6</th>\n",
       "      <th>7</th>\n",
       "      <th>8</th>\n",
       "      <th>9</th>\n",
       "      <th>10</th>\n",
       "      <th>11</th>\n",
       "    </tr>\n",
       "  </thead>\n",
       "  <tbody>\n",
       "    <tr>\n",
       "      <th>0</th>\n",
       "      <td>48.82</td>\n",
       "      <td>10.00</td>\n",
       "      <td>3.0</td>\n",
       "      <td>26</td>\n",
       "      <td>780</td>\n",
       "      <td>0</td>\n",
       "      <td>0</td>\n",
       "      <td>0</td>\n",
       "      <td>0</td>\n",
       "      <td>1</td>\n",
       "      <td>4</td>\n",
       "      <td>1</td>\n",
       "    </tr>\n",
       "    <tr>\n",
       "      <th>1</th>\n",
       "      <td>83.53</td>\n",
       "      <td>20.00</td>\n",
       "      <td>1.0</td>\n",
       "      <td>31</td>\n",
       "      <td>745</td>\n",
       "      <td>1</td>\n",
       "      <td>0</td>\n",
       "      <td>0</td>\n",
       "      <td>0</td>\n",
       "      <td>0</td>\n",
       "      <td>4</td>\n",
       "      <td>1</td>\n",
       "    </tr>\n",
       "    <tr>\n",
       "      <th>2</th>\n",
       "      <td>29.99</td>\n",
       "      <td>0.00</td>\n",
       "      <td>0.0</td>\n",
       "      <td>52</td>\n",
       "      <td>1441</td>\n",
       "      <td>0</td>\n",
       "      <td>0</td>\n",
       "      <td>0</td>\n",
       "      <td>1</td>\n",
       "      <td>1</td>\n",
       "      <td>3</td>\n",
       "      <td>1</td>\n",
       "    </tr>\n",
       "    <tr>\n",
       "      <th>3</th>\n",
       "      <td>51.42</td>\n",
       "      <td>0.00</td>\n",
       "      <td>0.0</td>\n",
       "      <td>36</td>\n",
       "      <td>59</td>\n",
       "      <td>1</td>\n",
       "      <td>0</td>\n",
       "      <td>0</td>\n",
       "      <td>0</td>\n",
       "      <td>0</td>\n",
       "      <td>4</td>\n",
       "      <td>1</td>\n",
       "    </tr>\n",
       "    <tr>\n",
       "      <th>4</th>\n",
       "      <td>37.75</td>\n",
       "      <td>2.67</td>\n",
       "      <td>0.0</td>\n",
       "      <td>25</td>\n",
       "      <td>572</td>\n",
       "      <td>0</td>\n",
       "      <td>0</td>\n",
       "      <td>0</td>\n",
       "      <td>1</td>\n",
       "      <td>1</td>\n",
       "      <td>3</td>\n",
       "      <td>1</td>\n",
       "    </tr>\n",
       "  </tbody>\n",
       "</table>\n",
       "</div>"
      ],
      "text/plain": [
       "      0      1    2   3     4   5   6   7   8   9   10  11\n",
       "0  48.82  10.00  3.0  26   780   0   0   0   0   1   4   1\n",
       "1  83.53  20.00  1.0  31   745   1   0   0   0   0   4   1\n",
       "2  29.99   0.00  0.0  52  1441   0   0   0   1   1   3   1\n",
       "3  51.42   0.00  0.0  36    59   1   0   0   0   0   4   1\n",
       "4  37.75   2.67  0.0  25   572   0   0   0   1   1   3   1"
      ]
     },
     "execution_count": 1,
     "metadata": {},
     "output_type": "execute_result"
    }
   ],
   "source": [
    "import pandas as pd\n",
    "\n",
    "df = pd.read_csv('cell2cell_data.csv', header = None)\n",
    "df.head()"
   ]
  },
  {
   "cell_type": "code",
   "execution_count": 2,
   "metadata": {},
   "outputs": [
    {
     "data": {
      "text/plain": [
       "(31893, 7966)"
      ]
     },
     "execution_count": 2,
     "metadata": {},
     "output_type": "execute_result"
    }
   ],
   "source": [
    "mask = np.random.rand(len(df)) < 0.8\n",
    "\n",
    "train_df = df[mask]\n",
    "test_df = df[~mask]\n",
    "len(train_df), len(test_df)"
   ]
  },
  {
   "cell_type": "markdown",
   "metadata": {},
   "source": [
    "2\\. How would we prove to ourselves or a colleague that our data was indeed randomly sampled on X?"
   ]
  },
  {
   "cell_type": "markdown",
   "metadata": {},
   "source": [
    "- For the train_df and test_df, which has 80% and 20% of total data chosen uniformly at random respectively, they are also charactrized by 12 features.\n",
    "- So, we can see if train_df has 80% of each feature that are randomly and uniformly chosen, and if test_df contains 20% of each feature. Then we can check: P(train_df | feature_1, feature_2, ..., feature_12) = P(train_df) = 0.8 and P(test_df | feature_1, feature_2, ..., feature_12) = P(test_df) = 0.2 \n",
    "- If above holds, then we can say the sampled train_df and test_df are independent of features and thus are unbiased."
   ]
  },
  {
   "cell_type": "markdown",
   "metadata": {},
   "source": [
    "3\\. Now I will build and train a decision tree classifier using `DecisionTreeClassifier()` [(manual page)](http://scikit-learn.org/stable/modules/generated/sklearn.tree.DecisionTreeClassifier.html) on train_df to predict the `\"churndep\"` target variable. Here, I used `criterion='entropy'` when instantiating an instance of `DecisionTreeClassifier()`. For all other settings I used the default options."
   ]
  },
  {
   "cell_type": "code",
   "execution_count": 3,
   "metadata": {},
   "outputs": [
    {
     "name": "stdout",
     "output_type": "stream",
     "text": [
      "Index(['revenue', 'outcalls', 'incalls', 'months', 'eqpdays', 'webcap',\n",
      "       'marryyes', 'travel', 'pcow', 'creditcd', 'retcalls', 'churndep'],\n",
      "      dtype='object')\n"
     ]
    },
    {
     "data": {
      "text/html": [
       "<div>\n",
       "<style scoped>\n",
       "    .dataframe tbody tr th:only-of-type {\n",
       "        vertical-align: middle;\n",
       "    }\n",
       "\n",
       "    .dataframe tbody tr th {\n",
       "        vertical-align: top;\n",
       "    }\n",
       "\n",
       "    .dataframe thead th {\n",
       "        text-align: right;\n",
       "    }\n",
       "</style>\n",
       "<table border=\"1\" class=\"dataframe\">\n",
       "  <thead>\n",
       "    <tr style=\"text-align: right;\">\n",
       "      <th></th>\n",
       "      <th>revenue</th>\n",
       "      <th>outcalls</th>\n",
       "      <th>incalls</th>\n",
       "      <th>months</th>\n",
       "      <th>eqpdays</th>\n",
       "      <th>webcap</th>\n",
       "      <th>marryyes</th>\n",
       "      <th>travel</th>\n",
       "      <th>pcow</th>\n",
       "      <th>creditcd</th>\n",
       "      <th>retcalls</th>\n",
       "      <th>churndep</th>\n",
       "    </tr>\n",
       "  </thead>\n",
       "  <tbody>\n",
       "    <tr>\n",
       "      <th>1</th>\n",
       "      <td>83.53</td>\n",
       "      <td>20.0</td>\n",
       "      <td>1.0</td>\n",
       "      <td>31</td>\n",
       "      <td>745</td>\n",
       "      <td>1</td>\n",
       "      <td>0</td>\n",
       "      <td>0</td>\n",
       "      <td>0</td>\n",
       "      <td>0</td>\n",
       "      <td>4</td>\n",
       "      <td>1</td>\n",
       "    </tr>\n",
       "    <tr>\n",
       "      <th>2</th>\n",
       "      <td>29.99</td>\n",
       "      <td>0.0</td>\n",
       "      <td>0.0</td>\n",
       "      <td>52</td>\n",
       "      <td>1441</td>\n",
       "      <td>0</td>\n",
       "      <td>0</td>\n",
       "      <td>0</td>\n",
       "      <td>1</td>\n",
       "      <td>1</td>\n",
       "      <td>3</td>\n",
       "      <td>1</td>\n",
       "    </tr>\n",
       "  </tbody>\n",
       "</table>\n",
       "</div>"
      ],
      "text/plain": [
       "   revenue  outcalls  incalls  months  eqpdays  webcap  marryyes  travel  \\\n",
       "1    83.53      20.0      1.0      31      745       1         0       0   \n",
       "2    29.99       0.0      0.0      52     1441       0         0       0   \n",
       "\n",
       "   pcow  creditcd  retcalls  churndep  \n",
       "1     0         0         4         1  \n",
       "2     1         1         3         1  "
      ]
     },
     "execution_count": 3,
     "metadata": {},
     "output_type": "execute_result"
    }
   ],
   "source": [
    "#rename the columns of train_df\n",
    "train_df.columns = [\"revenue\", \"outcalls\", \"incalls\", \"months\", \"eqpdays\", \"webcap\", \"marryyes\", \"travel\", \"pcow\", \"creditcd\", \"retcalls\", \"churndep\"]\n",
    "print(train_df.columns)\n",
    "train_df.head(2)"
   ]
  },
  {
   "cell_type": "code",
   "execution_count": 4,
   "metadata": {},
   "outputs": [
    {
     "data": {
      "text/plain": [
       "DecisionTreeClassifier(class_weight=None, criterion='entropy', max_depth=None,\n",
       "                       max_features=None, max_leaf_nodes=None,\n",
       "                       min_impurity_decrease=0.0, min_impurity_split=None,\n",
       "                       min_samples_leaf=1, min_samples_split=2,\n",
       "                       min_weight_fraction_leaf=0.0, presort=False,\n",
       "                       random_state=None, splitter='best')"
      ]
     },
     "execution_count": 4,
     "metadata": {},
     "output_type": "execute_result"
    }
   ],
   "source": [
    "from sklearn.tree import DecisionTreeClassifier\n",
    "\n",
    "Y = train_df['churndep']\n",
    "X = train_df.drop('churndep', 1)\n",
    "dt = DecisionTreeClassifier(criterion = 'entropy')\n",
    "dt.fit(X, Y)"
   ]
  },
  {
   "cell_type": "markdown",
   "metadata": {},
   "source": [
    "4\\. Using the resulting model from 2.3, I will show a bar plot of feature names and their feature importance. I sorted bar plot by increasing feature importance values."
   ]
  },
  {
   "cell_type": "code",
   "execution_count": 5,
   "metadata": {},
   "outputs": [
    {
     "data": {
      "image/png": "[encoded data removed]",
      "text/plain": [
       "<Figure size 432x288 with 1 Axes>"
      ]
     },
     "metadata": {
      "image/png": {
       "height": 299,
       "width": 380
      },
      "needs_background": "light"
     },
     "output_type": "display_data"
    }
   ],
   "source": [
    "import matplotlib.pyplot as plt\n",
    "%matplotlib inline\n",
    "\n",
    "feature_mi = dt.feature_importances_\n",
    "columns = train_df.columns.drop(\"churndep\", 1)\n",
    "indices = np.argsort(feature_mi)\n",
    "plt.title(\"Feature importances\")\n",
    "plt.bar(columns[indices], feature_mi[indices], color=\"r\", align=\"center\")\n",
    "plt.xticks(range(train_df.shape[1]), fontsize = 12, rotation= 45)\n",
    "plt.show()"
   ]
  },
  {
   "cell_type": "markdown",
   "metadata": {},
   "source": [
    "5\\. I analyzed the relationship between the top 3 most important features (as measured here) to see whether they are negative or positive. I will then explain the top 3 drivers of churn and interpret the relationship between these 3 features and the churn outcome. Then I will draw \"real-life\" connection between each variable and churn."
   ]
  },
  {
   "cell_type": "code",
   "execution_count": 6,
   "metadata": {},
   "outputs": [],
   "source": [
    "revenue = train_df[\"revenue\"]\n",
    "eqpdays = train_df[\"eqpdays\"]\n",
    "outcalls = train_df[\"outcalls\"]"
   ]
  },
  {
   "cell_type": "code",
   "execution_count": 7,
   "metadata": {},
   "outputs": [
    {
     "name": "stdout",
     "output_type": "stream",
     "text": [
      "correlation coefficient between revenue and eqpdays: -0.22606125565000254\n",
      "correlation coefficient between outcalls and eqpdays: -0.2457391564887077\n",
      "correlation coefficient between revenue and outcalls: 0.505545084599471\n"
     ]
    }
   ],
   "source": [
    "corr_1 = np.corrcoef(revenue, eqpdays)\n",
    "corr_2 = np.corrcoef(eqpdays, outcalls)\n",
    "corr_3 = np.corrcoef(revenue, outcalls)\n",
    "print(\"correlation coefficient between revenue and eqpdays: \" + str(corr_1[0][1])) \n",
    "print(\"correlation coefficient between outcalls and eqpdays: \" + str(corr_2[0][1]))\n",
    "print(\"correlation coefficient between revenue and outcalls: \" + str(corr_3[0][1]))"
   ]
  },
  {
   "cell_type": "markdown",
   "metadata": {},
   "source": [
    "- revenue vs. eqpdays: \n",
    "    - the correlation coefficient is -0.22, which makes sense because the longer the customers keeps their equipments, the company makes less money becuase customers don't switch to new equipment, that would lead to the decrease in sales and thus revenue as well.\n",
    "- outcalls vs. eqpdays: \n",
    "   - the correlation coefficient is -0.24. So they are negatively correlated. If customers make a lot of calls(large outcalls), then they use their equipment(e.g. their cellphone) more often, which would shorten the lifespan of the equipment and switch to the new one quicker. Thus, the more outcalls they make the shoter the period they keep their equipment because they would likely get a new one due to the overuse of the equipment.\n",
    "- revenue vs. outcalls: \n",
    "    - with 0.49, they are positively correlated. This implies that the more phonecalls the customers make, the more they use the company's services, which would likely result in the increase in revenue. "
   ]
  },
  {
   "cell_type": "markdown",
   "metadata": {},
   "source": [
    "6\\. Using the classifier built in 2.3, I will try predicting \"churndep\" on both the train_df and test_df data sets. Then I will show the accuracy on each and the explanation on the difference (or lackthereof) between the two accuracies."
   ]
  },
  {
   "cell_type": "code",
   "execution_count": 8,
   "metadata": {},
   "outputs": [
    {
     "name": "stdout",
     "output_type": "stream",
     "text": [
      "accuracy score for train data: 0.9999059354717336\n",
      "accuracy score for test data: 0.5473261360783329\n"
     ]
    }
   ],
   "source": [
    "from sklearn.metrics import accuracy_score\n",
    "test_df.columns = [\"revenue\", \"outcalls\", \"incalls\", \"months\", \"eqpdays\", \"webcap\", \"marryyes\", \"travel\", \"pcow\", \"creditcd\", \"retcalls\", \"churndep\"]\n",
    "X_test = test_df.drop('churndep', 1)\n",
    "\n",
    "preds_train = dt.predict(train_df[columns])\n",
    "preds_test = dt.predict(test_df[columns])\n",
    "\n",
    "print(\"accuracy score for train data: \" + str(accuracy_score(preds_train, train_df[\"churndep\"])))\n",
    "print(\"accuracy score for test data: \" + str(accuracy_score(preds_test, test_df[\"churndep\"])))\n"
   ]
  },
  {
   "cell_type": "markdown",
   "metadata": {},
   "source": [
    "Because we trained the model with the train data, it is obvious that the predict value for the train data is close to 1. This is a classic (and extreme) case for overfitting. However, since we didn't use any data from test dataset, the accuracy score for test data reflects the model's accuracy more accurately. That's where the difference between two accuracy scores came from!"
   ]
  },
  {
   "cell_type": "markdown",
   "metadata": {},
   "source": [
    "### Finding a Good Decision Tree \n",
    "The default options for this decision tree may not be optimal. I need to analyze whether tuning the parameters can improve the accuracy of the classifier.  For the following options `min_samples_split` and `min_samples_leaf`:"
   ]
  },
  {
   "cell_type": "markdown",
   "metadata": {},
   "source": [
    "1\\. I generated a list of 10 values of each for the parameters mim_samples_split and min_samples_leaf. "
   ]
  },
  {
   "cell_type": "code",
   "execution_count": 23,
   "metadata": {},
   "outputs": [
    {
     "name": "stdout",
     "output_type": "stream",
     "text": [
      "[  100   166   278   464   774  1291  2154  3593  5994 10000]\n",
      "[  10   16   27   46   77  129  215  359  599 1000]\n"
     ]
    }
   ],
   "source": [
    "min_samples_split_values = np.logspace(2, 4, num=10, dtype=np.int32)\n",
    "min_samples_leaf_values = np.logspace(1, 3, num=10, dtype=np.int32)\n",
    "print(min_samples_split_values)\n",
    "print(min_samples_leaf_values)"
   ]
  },
  {
   "cell_type": "markdown",
   "metadata": {},
   "source": [
    "2\\. Explanation on my reasoning for choosing the above ranges."
   ]
  },
  {
   "cell_type": "markdown",
   "metadata": {},
   "source": [
    "- I chose exponential values because I thought it's important to consider the constant rate change. If I choose values for the min_samples_split and min_samples_leaf based on the exponential growth, then I can observe dinamic change of the accuracy scores. \n",
    "- In the decision tree, if the number of attributes = n, then there are approximately $2^n - 1$ nodes. The worst case scenario the tree requires exponential number of nodes. In this case, we have 11 attributes, so there could be $2^{11} -1$ nodes, which is very large number. Because of this characteristics, I thought I could try to set the range based on exponential distribution. \n",
    "- I also set the range of min_samples_leaf narrower than that of min_samples_split because if split value is smaller than leaf value, the decision tree stops splitting. That is, if split value is 2 and leaf value is 6, and the sample size is 5, then the decision tree doesn't split because the minimum number of samples at the leaf, the base of the tree is 6. \n",
    "- After observation, I noticed that the accuracy score changes are visible within the range $[1000, 6000]$. So, I limited the range $[0, 10000]$ to see it more closely. "
   ]
  },
  {
   "cell_type": "markdown",
   "metadata": {},
   "source": [
    "3\\. For each combination of values in 3.1 (there are 100), I will build a new classifier and check the classifier's accuracy on the test data. Then I will plot the test set accuracy for these options. I will use the values of `min_samples_split` as the x-axis and generate a new series (line) for each of `min_samples_leaf`."
   ]
  },
  {
   "cell_type": "code",
   "execution_count": 49,
   "metadata": {
    "scrolled": true
   },
   "outputs": [
    {
     "data": {
      "text/plain": [
       "<matplotlib.axes._subplots.AxesSubplot at 0x1c1c501780>"
      ]
     },
     "execution_count": 49,
     "metadata": {},
     "output_type": "execute_result"
    },
    {
     "data": {
      "image/png": "[encoded data removed]",
      "text/plain": [
       "<Figure size 432x288 with 1 Axes>"
      ]
     },
     "metadata": {
      "image/png": {
       "height": 266,
       "width": 401
      },
      "needs_background": "light"
     },
     "output_type": "display_data"
    }
   ],
   "source": [
    "import matplotlib.pyplot as plt\n",
    "%matplotlib inline\n",
    "best_split = 0\n",
    "best_leaf = 0\n",
    "best_accuracy = 0\n",
    "worst_split = 0\n",
    "worst_leaf = 0\n",
    "worst_accuracy = 100\n",
    "\n",
    "data = pd.DataFrame(columns=[\"min_samples_split\", \"min_samples_leaf\", \"acc_score\"])\n",
    "\n",
    "for input_split in min_samples_split_values:\n",
    "    for input_leaf in min_samples_leaf_values:\n",
    "        model = DecisionTreeClassifier(criterion = \"entropy\", min_samples_split=input_split, \n",
    "                                        min_samples_leaf=input_leaf)\n",
    "\n",
    "        model.fit(X, Y)\n",
    "\n",
    "        y_pred = model.predict(test_df[columns])\n",
    "\n",
    "        acc_score = accuracy_score(y_pred, test_df[\"churndep\"])\n",
    "        data = data.append({\"min_samples_split\": input_split, \"min_samples_leaf\" : input_leaf, \n",
    "                            \"acc_score\" : acc_score}, ignore_index=True)\n",
    "        \n",
    "              \n",
    "data\n",
    "\n",
    "sns.lineplot(x=\"min_samples_split\", y=\"acc_score\", data=data, hue=\"min_samples_leaf\")"
   ]
  },
  {
   "cell_type": "code",
   "execution_count": 57,
   "metadata": {
    "scrolled": true
   },
   "outputs": [
    {
     "data": {
      "text/html": [
       "<div>\n",
       "<style scoped>\n",
       "    .dataframe tbody tr th:only-of-type {\n",
       "        vertical-align: middle;\n",
       "    }\n",
       "\n",
       "    .dataframe tbody tr th {\n",
       "        vertical-align: top;\n",
       "    }\n",
       "\n",
       "    .dataframe thead th {\n",
       "        text-align: right;\n",
       "    }\n",
       "</style>\n",
       "<table border=\"1\" class=\"dataframe\">\n",
       "  <thead>\n",
       "    <tr style=\"text-align: right;\">\n",
       "      <th></th>\n",
       "      <th>min_samples_split</th>\n",
       "      <th>min_samples_leaf</th>\n",
       "      <th>acc_score</th>\n",
       "    </tr>\n",
       "  </thead>\n",
       "  <tbody>\n",
       "    <tr>\n",
       "      <th>0</th>\n",
       "      <td>100.0</td>\n",
       "      <td>10.0</td>\n",
       "      <td>0.567914</td>\n",
       "    </tr>\n",
       "    <tr>\n",
       "      <th>1</th>\n",
       "      <td>100.0</td>\n",
       "      <td>16.0</td>\n",
       "      <td>0.566909</td>\n",
       "    </tr>\n",
       "    <tr>\n",
       "      <th>2</th>\n",
       "      <td>100.0</td>\n",
       "      <td>27.0</td>\n",
       "      <td>0.567035</td>\n",
       "    </tr>\n",
       "    <tr>\n",
       "      <th>3</th>\n",
       "      <td>100.0</td>\n",
       "      <td>46.0</td>\n",
       "      <td>0.576199</td>\n",
       "    </tr>\n",
       "    <tr>\n",
       "      <th>4</th>\n",
       "      <td>100.0</td>\n",
       "      <td>77.0</td>\n",
       "      <td>0.582099</td>\n",
       "    </tr>\n",
       "    <tr>\n",
       "      <th>5</th>\n",
       "      <td>100.0</td>\n",
       "      <td>129.0</td>\n",
       "      <td>0.586367</td>\n",
       "    </tr>\n",
       "    <tr>\n",
       "      <th>6</th>\n",
       "      <td>100.0</td>\n",
       "      <td>215.0</td>\n",
       "      <td>0.591137</td>\n",
       "    </tr>\n",
       "    <tr>\n",
       "      <th>7</th>\n",
       "      <td>100.0</td>\n",
       "      <td>359.0</td>\n",
       "      <td>0.589882</td>\n",
       "    </tr>\n",
       "    <tr>\n",
       "      <th>8</th>\n",
       "      <td>100.0</td>\n",
       "      <td>599.0</td>\n",
       "      <td>0.591765</td>\n",
       "    </tr>\n",
       "    <tr>\n",
       "      <th>9</th>\n",
       "      <td>100.0</td>\n",
       "      <td>1000.0</td>\n",
       "      <td>0.595029</td>\n",
       "    </tr>\n",
       "    <tr>\n",
       "      <th>10</th>\n",
       "      <td>166.0</td>\n",
       "      <td>10.0</td>\n",
       "      <td>0.576450</td>\n",
       "    </tr>\n",
       "    <tr>\n",
       "      <th>11</th>\n",
       "      <td>166.0</td>\n",
       "      <td>16.0</td>\n",
       "      <td>0.580341</td>\n",
       "    </tr>\n",
       "    <tr>\n",
       "      <th>12</th>\n",
       "      <td>166.0</td>\n",
       "      <td>27.0</td>\n",
       "      <td>0.576199</td>\n",
       "    </tr>\n",
       "    <tr>\n",
       "      <th>13</th>\n",
       "      <td>166.0</td>\n",
       "      <td>46.0</td>\n",
       "      <td>0.583103</td>\n",
       "    </tr>\n",
       "    <tr>\n",
       "      <th>14</th>\n",
       "      <td>166.0</td>\n",
       "      <td>77.0</td>\n",
       "      <td>0.583480</td>\n",
       "    </tr>\n",
       "    <tr>\n",
       "      <th>15</th>\n",
       "      <td>166.0</td>\n",
       "      <td>129.0</td>\n",
       "      <td>0.586367</td>\n",
       "    </tr>\n",
       "    <tr>\n",
       "      <th>16</th>\n",
       "      <td>166.0</td>\n",
       "      <td>215.0</td>\n",
       "      <td>0.591137</td>\n",
       "    </tr>\n",
       "    <tr>\n",
       "      <th>17</th>\n",
       "      <td>166.0</td>\n",
       "      <td>359.0</td>\n",
       "      <td>0.589882</td>\n",
       "    </tr>\n",
       "    <tr>\n",
       "      <th>18</th>\n",
       "      <td>166.0</td>\n",
       "      <td>599.0</td>\n",
       "      <td>0.591765</td>\n",
       "    </tr>\n",
       "    <tr>\n",
       "      <th>19</th>\n",
       "      <td>166.0</td>\n",
       "      <td>1000.0</td>\n",
       "      <td>0.595029</td>\n",
       "    </tr>\n",
       "    <tr>\n",
       "      <th>20</th>\n",
       "      <td>278.0</td>\n",
       "      <td>10.0</td>\n",
       "      <td>0.585363</td>\n",
       "    </tr>\n",
       "    <tr>\n",
       "      <th>21</th>\n",
       "      <td>278.0</td>\n",
       "      <td>16.0</td>\n",
       "      <td>0.590510</td>\n",
       "    </tr>\n",
       "    <tr>\n",
       "      <th>22</th>\n",
       "      <td>278.0</td>\n",
       "      <td>27.0</td>\n",
       "      <td>0.585865</td>\n",
       "    </tr>\n",
       "    <tr>\n",
       "      <th>23</th>\n",
       "      <td>278.0</td>\n",
       "      <td>46.0</td>\n",
       "      <td>0.586493</td>\n",
       "    </tr>\n",
       "    <tr>\n",
       "      <th>24</th>\n",
       "      <td>278.0</td>\n",
       "      <td>77.0</td>\n",
       "      <td>0.582852</td>\n",
       "    </tr>\n",
       "    <tr>\n",
       "      <th>25</th>\n",
       "      <td>278.0</td>\n",
       "      <td>129.0</td>\n",
       "      <td>0.586744</td>\n",
       "    </tr>\n",
       "    <tr>\n",
       "      <th>26</th>\n",
       "      <td>278.0</td>\n",
       "      <td>215.0</td>\n",
       "      <td>0.591137</td>\n",
       "    </tr>\n",
       "    <tr>\n",
       "      <th>27</th>\n",
       "      <td>278.0</td>\n",
       "      <td>359.0</td>\n",
       "      <td>0.589882</td>\n",
       "    </tr>\n",
       "    <tr>\n",
       "      <th>28</th>\n",
       "      <td>278.0</td>\n",
       "      <td>599.0</td>\n",
       "      <td>0.591765</td>\n",
       "    </tr>\n",
       "    <tr>\n",
       "      <th>29</th>\n",
       "      <td>278.0</td>\n",
       "      <td>1000.0</td>\n",
       "      <td>0.595029</td>\n",
       "    </tr>\n",
       "    <tr>\n",
       "      <th>...</th>\n",
       "      <td>...</td>\n",
       "      <td>...</td>\n",
       "      <td>...</td>\n",
       "    </tr>\n",
       "    <tr>\n",
       "      <th>70</th>\n",
       "      <td>3593.0</td>\n",
       "      <td>10.0</td>\n",
       "      <td>0.593648</td>\n",
       "    </tr>\n",
       "    <tr>\n",
       "      <th>71</th>\n",
       "      <td>3593.0</td>\n",
       "      <td>16.0</td>\n",
       "      <td>0.593648</td>\n",
       "    </tr>\n",
       "    <tr>\n",
       "      <th>72</th>\n",
       "      <td>3593.0</td>\n",
       "      <td>27.0</td>\n",
       "      <td>0.593397</td>\n",
       "    </tr>\n",
       "    <tr>\n",
       "      <th>73</th>\n",
       "      <td>3593.0</td>\n",
       "      <td>46.0</td>\n",
       "      <td>0.593397</td>\n",
       "    </tr>\n",
       "    <tr>\n",
       "      <th>74</th>\n",
       "      <td>3593.0</td>\n",
       "      <td>77.0</td>\n",
       "      <td>0.593146</td>\n",
       "    </tr>\n",
       "    <tr>\n",
       "      <th>75</th>\n",
       "      <td>3593.0</td>\n",
       "      <td>129.0</td>\n",
       "      <td>0.593397</td>\n",
       "    </tr>\n",
       "    <tr>\n",
       "      <th>76</th>\n",
       "      <td>3593.0</td>\n",
       "      <td>215.0</td>\n",
       "      <td>0.593271</td>\n",
       "    </tr>\n",
       "    <tr>\n",
       "      <th>77</th>\n",
       "      <td>3593.0</td>\n",
       "      <td>359.0</td>\n",
       "      <td>0.594025</td>\n",
       "    </tr>\n",
       "    <tr>\n",
       "      <th>78</th>\n",
       "      <td>3593.0</td>\n",
       "      <td>599.0</td>\n",
       "      <td>0.593146</td>\n",
       "    </tr>\n",
       "    <tr>\n",
       "      <th>79</th>\n",
       "      <td>3593.0</td>\n",
       "      <td>1000.0</td>\n",
       "      <td>0.597037</td>\n",
       "    </tr>\n",
       "    <tr>\n",
       "      <th>80</th>\n",
       "      <td>5994.0</td>\n",
       "      <td>10.0</td>\n",
       "      <td>0.594652</td>\n",
       "    </tr>\n",
       "    <tr>\n",
       "      <th>81</th>\n",
       "      <td>5994.0</td>\n",
       "      <td>16.0</td>\n",
       "      <td>0.594652</td>\n",
       "    </tr>\n",
       "    <tr>\n",
       "      <th>82</th>\n",
       "      <td>5994.0</td>\n",
       "      <td>27.0</td>\n",
       "      <td>0.594652</td>\n",
       "    </tr>\n",
       "    <tr>\n",
       "      <th>83</th>\n",
       "      <td>5994.0</td>\n",
       "      <td>46.0</td>\n",
       "      <td>0.594652</td>\n",
       "    </tr>\n",
       "    <tr>\n",
       "      <th>84</th>\n",
       "      <td>5994.0</td>\n",
       "      <td>77.0</td>\n",
       "      <td>0.594652</td>\n",
       "    </tr>\n",
       "    <tr>\n",
       "      <th>85</th>\n",
       "      <td>5994.0</td>\n",
       "      <td>129.0</td>\n",
       "      <td>0.594903</td>\n",
       "    </tr>\n",
       "    <tr>\n",
       "      <th>86</th>\n",
       "      <td>5994.0</td>\n",
       "      <td>215.0</td>\n",
       "      <td>0.594652</td>\n",
       "    </tr>\n",
       "    <tr>\n",
       "      <th>87</th>\n",
       "      <td>5994.0</td>\n",
       "      <td>359.0</td>\n",
       "      <td>0.597037</td>\n",
       "    </tr>\n",
       "    <tr>\n",
       "      <th>88</th>\n",
       "      <td>5994.0</td>\n",
       "      <td>599.0</td>\n",
       "      <td>0.597414</td>\n",
       "    </tr>\n",
       "    <tr>\n",
       "      <th>89</th>\n",
       "      <td>5994.0</td>\n",
       "      <td>1000.0</td>\n",
       "      <td>0.596535</td>\n",
       "    </tr>\n",
       "    <tr>\n",
       "      <th>90</th>\n",
       "      <td>10000.0</td>\n",
       "      <td>10.0</td>\n",
       "      <td>0.590259</td>\n",
       "    </tr>\n",
       "    <tr>\n",
       "      <th>91</th>\n",
       "      <td>10000.0</td>\n",
       "      <td>16.0</td>\n",
       "      <td>0.590259</td>\n",
       "    </tr>\n",
       "    <tr>\n",
       "      <th>92</th>\n",
       "      <td>10000.0</td>\n",
       "      <td>27.0</td>\n",
       "      <td>0.590259</td>\n",
       "    </tr>\n",
       "    <tr>\n",
       "      <th>93</th>\n",
       "      <td>10000.0</td>\n",
       "      <td>46.0</td>\n",
       "      <td>0.590259</td>\n",
       "    </tr>\n",
       "    <tr>\n",
       "      <th>94</th>\n",
       "      <td>10000.0</td>\n",
       "      <td>77.0</td>\n",
       "      <td>0.590259</td>\n",
       "    </tr>\n",
       "    <tr>\n",
       "      <th>95</th>\n",
       "      <td>10000.0</td>\n",
       "      <td>129.0</td>\n",
       "      <td>0.590259</td>\n",
       "    </tr>\n",
       "    <tr>\n",
       "      <th>96</th>\n",
       "      <td>10000.0</td>\n",
       "      <td>215.0</td>\n",
       "      <td>0.590259</td>\n",
       "    </tr>\n",
       "    <tr>\n",
       "      <th>97</th>\n",
       "      <td>10000.0</td>\n",
       "      <td>359.0</td>\n",
       "      <td>0.590259</td>\n",
       "    </tr>\n",
       "    <tr>\n",
       "      <th>98</th>\n",
       "      <td>10000.0</td>\n",
       "      <td>599.0</td>\n",
       "      <td>0.590259</td>\n",
       "    </tr>\n",
       "    <tr>\n",
       "      <th>99</th>\n",
       "      <td>10000.0</td>\n",
       "      <td>1000.0</td>\n",
       "      <td>0.590259</td>\n",
       "    </tr>\n",
       "  </tbody>\n",
       "</table>\n",
       "<p>100 rows × 3 columns</p>\n",
       "</div>"
      ],
      "text/plain": [
       "    min_samples_split  min_samples_leaf  acc_score\n",
       "0               100.0              10.0   0.567914\n",
       "1               100.0              16.0   0.566909\n",
       "2               100.0              27.0   0.567035\n",
       "3               100.0              46.0   0.576199\n",
       "4               100.0              77.0   0.582099\n",
       "5               100.0             129.0   0.586367\n",
       "6               100.0             215.0   0.591137\n",
       "7               100.0             359.0   0.589882\n",
       "8               100.0             599.0   0.591765\n",
       "9               100.0            1000.0   0.595029\n",
       "10              166.0              10.0   0.576450\n",
       "11              166.0              16.0   0.580341\n",
       "12              166.0              27.0   0.576199\n",
       "13              166.0              46.0   0.583103\n",
       "14              166.0              77.0   0.583480\n",
       "15              166.0             129.0   0.586367\n",
       "16              166.0             215.0   0.591137\n",
       "17              166.0             359.0   0.589882\n",
       "18              166.0             599.0   0.591765\n",
       "19              166.0            1000.0   0.595029\n",
       "20              278.0              10.0   0.585363\n",
       "21              278.0              16.0   0.590510\n",
       "22              278.0              27.0   0.585865\n",
       "23              278.0              46.0   0.586493\n",
       "24              278.0              77.0   0.582852\n",
       "25              278.0             129.0   0.586744\n",
       "26              278.0             215.0   0.591137\n",
       "27              278.0             359.0   0.589882\n",
       "28              278.0             599.0   0.591765\n",
       "29              278.0            1000.0   0.595029\n",
       "..                ...               ...        ...\n",
       "70             3593.0              10.0   0.593648\n",
       "71             3593.0              16.0   0.593648\n",
       "72             3593.0              27.0   0.593397\n",
       "73             3593.0              46.0   0.593397\n",
       "74             3593.0              77.0   0.593146\n",
       "75             3593.0             129.0   0.593397\n",
       "76             3593.0             215.0   0.593271\n",
       "77             3593.0             359.0   0.594025\n",
       "78             3593.0             599.0   0.593146\n",
       "79             3593.0            1000.0   0.597037\n",
       "80             5994.0              10.0   0.594652\n",
       "81             5994.0              16.0   0.594652\n",
       "82             5994.0              27.0   0.594652\n",
       "83             5994.0              46.0   0.594652\n",
       "84             5994.0              77.0   0.594652\n",
       "85             5994.0             129.0   0.594903\n",
       "86             5994.0             215.0   0.594652\n",
       "87             5994.0             359.0   0.597037\n",
       "88             5994.0             599.0   0.597414\n",
       "89             5994.0            1000.0   0.596535\n",
       "90            10000.0              10.0   0.590259\n",
       "91            10000.0              16.0   0.590259\n",
       "92            10000.0              27.0   0.590259\n",
       "93            10000.0              46.0   0.590259\n",
       "94            10000.0              77.0   0.590259\n",
       "95            10000.0             129.0   0.590259\n",
       "96            10000.0             215.0   0.590259\n",
       "97            10000.0             359.0   0.590259\n",
       "98            10000.0             599.0   0.590259\n",
       "99            10000.0            1000.0   0.590259\n",
       "\n",
       "[100 rows x 3 columns]"
      ]
     },
     "execution_count": 57,
     "metadata": {},
     "output_type": "execute_result"
    }
   ],
   "source": [
    "data"
   ]
  },
  {
   "cell_type": "code",
   "execution_count": 50,
   "metadata": {
    "scrolled": true
   },
   "outputs": [
    {
     "data": {
      "text/plain": [
       "{100: [0.567913632939995,\n",
       "  0.5669093648004017,\n",
       "  0.5670348983178509,\n",
       "  0.5761988450916394,\n",
       "  0.5820989204117499,\n",
       "  0.5863670600050214,\n",
       "  0.5911373336680894,\n",
       "  0.5898819984935978,\n",
       "  0.5917650012553352,\n",
       "  0.5950288727090133],\n",
       " 166: [0.5764499121265377,\n",
       "  0.5803414511674617,\n",
       "  0.5761988450916394,\n",
       "  0.5831031885513432,\n",
       "  0.5834797891036907,\n",
       "  0.5863670600050214,\n",
       "  0.5911373336680894,\n",
       "  0.5898819984935978,\n",
       "  0.5917650012553352,\n",
       "  0.5950288727090133],\n",
       " 278: [0.5853627918654281,\n",
       "  0.5905096660808435,\n",
       "  0.5858649259352247,\n",
       "  0.5864925935224705,\n",
       "  0.5828521215164449,\n",
       "  0.5867436605573688,\n",
       "  0.5911373336680894,\n",
       "  0.5898819984935978,\n",
       "  0.5917650012553352,\n",
       "  0.5950288727090133],\n",
       " 464: [0.5898819984935978,\n",
       "  0.5887521968365553,\n",
       "  0.5886266633191062,\n",
       "  0.5883755962842079,\n",
       "  0.5848606577956315,\n",
       "  0.5829776550338941,\n",
       "  0.5915139342204369,\n",
       "  0.5898819984935978,\n",
       "  0.5917650012553352,\n",
       "  0.5950288727090133],\n",
       " 774: [0.5896309314586995,\n",
       "  0.5857393924177755,\n",
       "  0.5903841325633944,\n",
       "  0.5902585990459452,\n",
       "  0.5857393924177755,\n",
       "  0.5856138589003264,\n",
       "  0.5942756716043184,\n",
       "  0.5911373336680894,\n",
       "  0.5917650012553352,\n",
       "  0.5950288727090133],\n",
       " 1291: [0.5967863419533015,\n",
       "  0.5941501380868692,\n",
       "  0.5957820738137083,\n",
       "  0.5961586743660557,\n",
       "  0.5917650012553352,\n",
       "  0.5927692693949285,\n",
       "  0.5977906100928948,\n",
       "  0.5903841325633944,\n",
       "  0.5917650012553352,\n",
       "  0.5950288727090133],\n",
       " 2154: [0.5977906100928948,\n",
       "  0.5965352749184032,\n",
       "  0.5966608084358523,\n",
       "  0.5959076073311574,\n",
       "  0.5950288727090133,\n",
       "  0.5951544062264624,\n",
       "  0.5956565402962591,\n",
       "  0.5952799397439116,\n",
       "  0.5902585990459452,\n",
       "  0.5950288727090133],\n",
       " 3593: [0.5936480040170725,\n",
       "  0.5936480040170725,\n",
       "  0.5933969369821742,\n",
       "  0.5933969369821742,\n",
       "  0.5931458699472759,\n",
       "  0.5933969369821742,\n",
       "  0.5932714034647251,\n",
       "  0.5940246045694201,\n",
       "  0.5931458699472759,\n",
       "  0.5970374089881999],\n",
       " 5994: [0.5946522721566658,\n",
       "  0.5946522721566658,\n",
       "  0.5946522721566658,\n",
       "  0.5946522721566658,\n",
       "  0.5946522721566658,\n",
       "  0.5949033391915641,\n",
       "  0.5946522721566658,\n",
       "  0.5970374089881999,\n",
       "  0.5974140095405474,\n",
       "  0.5965352749184032],\n",
       " 10000: [0.5902585990459452,\n",
       "  0.5902585990459452,\n",
       "  0.5902585990459452,\n",
       "  0.5902585990459452,\n",
       "  0.5902585990459452,\n",
       "  0.5902585990459452,\n",
       "  0.5902585990459452,\n",
       "  0.5902585990459452,\n",
       "  0.5902585990459452,\n",
       "  0.5902585990459452]}"
      ]
     },
     "execution_count": 50,
     "metadata": {},
     "output_type": "execute_result"
    }
   ],
   "source": [
    "#create the dictionary with key of min_samples_split and a list of values of accuracy scores \n",
    "#for each min_samples_leaf\n",
    "result_dict = dict()\n",
    "\n",
    "for i in min_samples_split_values:\n",
    "    result_dict[i] = list(data.loc[data['min_samples_split'] == i][\"acc_score\"])\n",
    "\n",
    "result_dict"
   ]
  },
  {
   "cell_type": "code",
   "execution_count": 51,
   "metadata": {},
   "outputs": [
    {
     "data": {
      "text/plain": [
       "0.5977906100928948"
      ]
     },
     "execution_count": 51,
     "metadata": {},
     "output_type": "execute_result"
    }
   ],
   "source": [
    "#Find highest accuracy score\n",
    "values = list(result_dict.values())\n",
    "values = sum(values, [])\n",
    "max_acc = max(values)\n",
    "max_acc"
   ]
  },
  {
   "cell_type": "code",
   "execution_count": 52,
   "metadata": {},
   "outputs": [
    {
     "data": {
      "text/plain": [
       "[1291, 2154]"
      ]
     },
     "execution_count": 52,
     "metadata": {},
     "output_type": "execute_result"
    }
   ],
   "source": [
    "#Find min_samples_split_value that's associated with highest accuracy score\n",
    "key = [key for key, value in result_dict.items() if max_acc in value]\n",
    "key"
   ]
  },
  {
   "cell_type": "markdown",
   "metadata": {},
   "source": [
    "4\\. I will show which configuration returns the best accuracy and what the accuracy is."
   ]
  },
  {
   "cell_type": "code",
   "execution_count": 56,
   "metadata": {},
   "outputs": [
    {
     "data": {
      "text/html": [
       "<div>\n",
       "<style scoped>\n",
       "    .dataframe tbody tr th:only-of-type {\n",
       "        vertical-align: middle;\n",
       "    }\n",
       "\n",
       "    .dataframe tbody tr th {\n",
       "        vertical-align: top;\n",
       "    }\n",
       "\n",
       "    .dataframe thead th {\n",
       "        text-align: right;\n",
       "    }\n",
       "</style>\n",
       "<table border=\"1\" class=\"dataframe\">\n",
       "  <thead>\n",
       "    <tr style=\"text-align: right;\">\n",
       "      <th></th>\n",
       "      <th>min_samples_split</th>\n",
       "      <th>min_samples_leaf</th>\n",
       "      <th>acc_score</th>\n",
       "    </tr>\n",
       "  </thead>\n",
       "  <tbody>\n",
       "    <tr>\n",
       "      <th>56</th>\n",
       "      <td>1291.0</td>\n",
       "      <td>215.0</td>\n",
       "      <td>0.597791</td>\n",
       "    </tr>\n",
       "    <tr>\n",
       "      <th>60</th>\n",
       "      <td>2154.0</td>\n",
       "      <td>10.0</td>\n",
       "      <td>0.597791</td>\n",
       "    </tr>\n",
       "  </tbody>\n",
       "</table>\n",
       "</div>"
      ],
      "text/plain": [
       "    min_samples_split  min_samples_leaf  acc_score\n",
       "56             1291.0             215.0   0.597791\n",
       "60             2154.0              10.0   0.597791"
      ]
     },
     "execution_count": 56,
     "metadata": {},
     "output_type": "execute_result"
    }
   ],
   "source": [
    "#Find which configuration returns the highest accuracy score\n",
    "data.loc[data[\"acc_score\"] == max_acc]"
   ]
  },
  {
   "cell_type": "markdown",
   "metadata": {},
   "source": [
    "5\\. Here is my explanation on how I would use my churn prodiction model in a real business environment. I will explain why churn prediction might be good for the business and how one might improve churn by using this model."
   ]
  },
  {
   "cell_type": "markdown",
   "metadata": {},
   "source": [
    "- Our model uses 11 independent feature data such as revenue, outcalls, eqpdays, etc. to predict if a customer would churn or not. These features separate churned customers from not churned customers. Thus, we know what kind of features more likely drive customers to churn compared to others. \n",
    "- This can be used in a real business environment to predict the likelihood of churn and further prevent this from happening - the kmarketing department can give out coupons to the customers who show certain behavioural patterns that are associated with churn. \n",
    "- Also, by analyzing the correlation between features, we can select what kinds of features are positively correlated with revenue, and thus encourage customers to do behaviours associated with the features. "
   ]
  }
 ],
 "metadata": {
  "kernelspec": {
   "display_name": "Python 3",
   "language": "python",
   "name": "python3"
  },
  "language_info": {
   "codemirror_mode": {
    "name": "ipython",
    "version": 3
   },
   "file_extension": ".py",
   "mimetype": "text/x-python",
   "name": "python",
   "nbconvert_exporter": "python",
   "pygments_lexer": "ipython3",
   "version": "3.7.3"
  }
 },
 "nbformat": 4,
 "nbformat_minor": 1
}
