{
 "cells": [
  {
   "cell_type": "markdown",
   "metadata": {},
   "source": [
    "## PCA\n",
    "- Goal: given a mysterious matrix with datapoints $a_1, \\cdots, a_n \\in R^d$, construct a new dataset $a'_1, \\cdots, a'_k \\in R^k$ with k < d, which looks like the original dataset\n",
    "- For numbers $x_1, \\cdots, x_n \\in R:$\n",
    "    - mean: $m = \\frac{1}{n} \\Sigma_{i=1}^{n} x_i$\n",
    "    - variance: $\\sigma^2 = \\frac{1}{n} \\Sigma_{i=1}^{n} (x_i-m)^2$\n",
    "- For vectors $a_1, \\cdots, a_n \\in R^d$:\n",
    "    - mean: $\\mu = \\frac{1}{n} \\Sigma_{i=1}^{n} a_i \\in R^d$\n",
    "- Covariance matrix $S = \\frac{1}{n} \\Sigma_{i=1}^{n} (a_i - \\mu)(a_i-\\mu)^T \\in R^{d \\times d}$\n",
    "    - when $\\mu = 0:$\n",
    "        - $S = \\frac{1}{n} \\Sigma_{i=1}^{n} a_i a_i^T = A^TA \\in R^{d \\times d}$ \n",
    "        - symmetric and positive semidefinte matrix"
   ]
  },
  {
   "cell_type": "code",
   "execution_count": 2,
   "metadata": {},
   "outputs": [],
   "source": [
    "%matplotlib inline\n",
    "import matplotlib\n",
    "import numpy as np\n",
    "import matplotlib.pyplot as plot\n",
    "import heapq"
   ]
  },
  {
   "cell_type": "code",
   "execution_count": 55,
   "metadata": {},
   "outputs": [
    {
     "name": "stdout",
     "output_type": "stream",
     "text": [
      "(3000, 1000)\n"
     ]
    }
   ],
   "source": [
    "A = np.loadtxt('mysterious_data.txt')\n",
    "print(A.shape)"
   ]
  },
  {
   "cell_type": "code",
   "execution_count": 174,
   "metadata": {
    "scrolled": true
   },
   "outputs": [],
   "source": [
    "df = pd.DataFrame(A)"
   ]
  },
  {
   "cell_type": "markdown",
   "metadata": {},
   "source": [
    "## 1. Compute $\\mu = \\frac{1}{n} \\Sigma_{i=1}^{n} a_i$"
   ]
  },
  {
   "cell_type": "code",
   "execution_count": 175,
   "metadata": {
    "scrolled": false
   },
   "outputs": [
    {
     "data": {
      "text/html": [
       "<div>\n",
       "<style scoped>\n",
       "    .dataframe tbody tr th:only-of-type {\n",
       "        vertical-align: middle;\n",
       "    }\n",
       "\n",
       "    .dataframe tbody tr th {\n",
       "        vertical-align: top;\n",
       "    }\n",
       "\n",
       "    .dataframe thead th {\n",
       "        text-align: right;\n",
       "    }\n",
       "</style>\n",
       "<table border=\"1\" class=\"dataframe\">\n",
       "  <thead>\n",
       "    <tr style=\"text-align: right;\">\n",
       "      <th></th>\n",
       "      <th>0</th>\n",
       "      <th>1</th>\n",
       "      <th>2</th>\n",
       "      <th>3</th>\n",
       "      <th>4</th>\n",
       "      <th>5</th>\n",
       "      <th>6</th>\n",
       "      <th>7</th>\n",
       "      <th>8</th>\n",
       "      <th>9</th>\n",
       "      <th>...</th>\n",
       "      <th>990</th>\n",
       "      <th>991</th>\n",
       "      <th>992</th>\n",
       "      <th>993</th>\n",
       "      <th>994</th>\n",
       "      <th>995</th>\n",
       "      <th>996</th>\n",
       "      <th>997</th>\n",
       "      <th>998</th>\n",
       "      <th>999</th>\n",
       "    </tr>\n",
       "  </thead>\n",
       "  <tbody>\n",
       "    <tr>\n",
       "      <th>count</th>\n",
       "      <td>3000.000000</td>\n",
       "      <td>3000.000000</td>\n",
       "      <td>3000.000000</td>\n",
       "      <td>3000.000000</td>\n",
       "      <td>3000.000000</td>\n",
       "      <td>3000.000000</td>\n",
       "      <td>3000.000000</td>\n",
       "      <td>3000.000000</td>\n",
       "      <td>3000.000000</td>\n",
       "      <td>3000.000000</td>\n",
       "      <td>...</td>\n",
       "      <td>3000.000000</td>\n",
       "      <td>3000.000000</td>\n",
       "      <td>3000.000000</td>\n",
       "      <td>3000.000000</td>\n",
       "      <td>3000.000000</td>\n",
       "      <td>3000.000000</td>\n",
       "      <td>3000.000000</td>\n",
       "      <td>3000.000000</td>\n",
       "      <td>3000.000000</td>\n",
       "      <td>3000.000000</td>\n",
       "    </tr>\n",
       "    <tr>\n",
       "      <th>mean</th>\n",
       "      <td>0.081833</td>\n",
       "      <td>-0.277149</td>\n",
       "      <td>0.069341</td>\n",
       "      <td>0.032049</td>\n",
       "      <td>-0.033065</td>\n",
       "      <td>0.117347</td>\n",
       "      <td>-0.039048</td>\n",
       "      <td>0.114474</td>\n",
       "      <td>0.044872</td>\n",
       "      <td>-0.273285</td>\n",
       "      <td>...</td>\n",
       "      <td>0.199922</td>\n",
       "      <td>-0.081698</td>\n",
       "      <td>-0.305270</td>\n",
       "      <td>-0.253691</td>\n",
       "      <td>-0.156283</td>\n",
       "      <td>0.220097</td>\n",
       "      <td>0.180365</td>\n",
       "      <td>0.013587</td>\n",
       "      <td>-0.150563</td>\n",
       "      <td>-0.055067</td>\n",
       "    </tr>\n",
       "    <tr>\n",
       "      <th>std</th>\n",
       "      <td>3.623396</td>\n",
       "      <td>4.509088</td>\n",
       "      <td>3.735008</td>\n",
       "      <td>3.424487</td>\n",
       "      <td>4.203917</td>\n",
       "      <td>3.574587</td>\n",
       "      <td>3.483363</td>\n",
       "      <td>3.618069</td>\n",
       "      <td>3.788335</td>\n",
       "      <td>3.942744</td>\n",
       "      <td>...</td>\n",
       "      <td>3.765084</td>\n",
       "      <td>3.635644</td>\n",
       "      <td>3.893819</td>\n",
       "      <td>3.983983</td>\n",
       "      <td>4.217968</td>\n",
       "      <td>3.666632</td>\n",
       "      <td>3.750295</td>\n",
       "      <td>4.153445</td>\n",
       "      <td>3.756964</td>\n",
       "      <td>3.754656</td>\n",
       "    </tr>\n",
       "    <tr>\n",
       "      <th>min</th>\n",
       "      <td>-11.313769</td>\n",
       "      <td>-16.166055</td>\n",
       "      <td>-12.007179</td>\n",
       "      <td>-11.178847</td>\n",
       "      <td>-13.803295</td>\n",
       "      <td>-11.637022</td>\n",
       "      <td>-11.371517</td>\n",
       "      <td>-11.465125</td>\n",
       "      <td>-12.121769</td>\n",
       "      <td>-13.076620</td>\n",
       "      <td>...</td>\n",
       "      <td>-12.712768</td>\n",
       "      <td>-12.215052</td>\n",
       "      <td>-13.770667</td>\n",
       "      <td>-13.976514</td>\n",
       "      <td>-13.798050</td>\n",
       "      <td>-13.305596</td>\n",
       "      <td>-12.454419</td>\n",
       "      <td>-13.902516</td>\n",
       "      <td>-12.612192</td>\n",
       "      <td>-12.459389</td>\n",
       "    </tr>\n",
       "    <tr>\n",
       "      <th>25%</th>\n",
       "      <td>-2.365682</td>\n",
       "      <td>-3.473277</td>\n",
       "      <td>-2.563342</td>\n",
       "      <td>-2.280766</td>\n",
       "      <td>-2.997412</td>\n",
       "      <td>-2.264338</td>\n",
       "      <td>-2.397096</td>\n",
       "      <td>-2.313122</td>\n",
       "      <td>-2.551062</td>\n",
       "      <td>-2.970882</td>\n",
       "      <td>...</td>\n",
       "      <td>-2.408313</td>\n",
       "      <td>-2.592606</td>\n",
       "      <td>-2.860098</td>\n",
       "      <td>-2.915069</td>\n",
       "      <td>-3.047389</td>\n",
       "      <td>-2.188809</td>\n",
       "      <td>-2.421133</td>\n",
       "      <td>-2.809797</td>\n",
       "      <td>-2.644983</td>\n",
       "      <td>-2.594263</td>\n",
       "    </tr>\n",
       "    <tr>\n",
       "      <th>50%</th>\n",
       "      <td>0.066072</td>\n",
       "      <td>-0.230394</td>\n",
       "      <td>0.047532</td>\n",
       "      <td>-0.049348</td>\n",
       "      <td>-0.107041</td>\n",
       "      <td>0.169055</td>\n",
       "      <td>0.030208</td>\n",
       "      <td>0.104231</td>\n",
       "      <td>0.076880</td>\n",
       "      <td>-0.345980</td>\n",
       "      <td>...</td>\n",
       "      <td>0.250727</td>\n",
       "      <td>-0.075801</td>\n",
       "      <td>-0.334877</td>\n",
       "      <td>-0.258272</td>\n",
       "      <td>-0.134922</td>\n",
       "      <td>0.289483</td>\n",
       "      <td>0.188125</td>\n",
       "      <td>-0.057174</td>\n",
       "      <td>-0.133565</td>\n",
       "      <td>-0.052189</td>\n",
       "    </tr>\n",
       "    <tr>\n",
       "      <th>75%</th>\n",
       "      <td>2.552037</td>\n",
       "      <td>2.803711</td>\n",
       "      <td>2.708727</td>\n",
       "      <td>2.447448</td>\n",
       "      <td>2.843110</td>\n",
       "      <td>2.524324</td>\n",
       "      <td>2.222391</td>\n",
       "      <td>2.613596</td>\n",
       "      <td>2.578954</td>\n",
       "      <td>2.402805</td>\n",
       "      <td>...</td>\n",
       "      <td>2.738860</td>\n",
       "      <td>2.395868</td>\n",
       "      <td>2.360812</td>\n",
       "      <td>2.382488</td>\n",
       "      <td>2.688209</td>\n",
       "      <td>2.767932</td>\n",
       "      <td>2.723239</td>\n",
       "      <td>2.859379</td>\n",
       "      <td>2.380350</td>\n",
       "      <td>2.446026</td>\n",
       "    </tr>\n",
       "    <tr>\n",
       "      <th>max</th>\n",
       "      <td>15.032590</td>\n",
       "      <td>16.111301</td>\n",
       "      <td>15.714008</td>\n",
       "      <td>12.306674</td>\n",
       "      <td>13.780719</td>\n",
       "      <td>13.419085</td>\n",
       "      <td>11.455913</td>\n",
       "      <td>13.486082</td>\n",
       "      <td>12.982322</td>\n",
       "      <td>12.699667</td>\n",
       "      <td>...</td>\n",
       "      <td>12.152766</td>\n",
       "      <td>12.356390</td>\n",
       "      <td>15.642775</td>\n",
       "      <td>11.661964</td>\n",
       "      <td>15.316484</td>\n",
       "      <td>11.333246</td>\n",
       "      <td>12.320256</td>\n",
       "      <td>14.858969</td>\n",
       "      <td>13.468435</td>\n",
       "      <td>13.491570</td>\n",
       "    </tr>\n",
       "  </tbody>\n",
       "</table>\n",
       "<p>8 rows × 1000 columns</p>\n",
       "</div>"
      ],
      "text/plain": [
       "               0            1            2            3            4    \\\n",
       "count  3000.000000  3000.000000  3000.000000  3000.000000  3000.000000   \n",
       "mean      0.081833    -0.277149     0.069341     0.032049    -0.033065   \n",
       "std       3.623396     4.509088     3.735008     3.424487     4.203917   \n",
       "min     -11.313769   -16.166055   -12.007179   -11.178847   -13.803295   \n",
       "25%      -2.365682    -3.473277    -2.563342    -2.280766    -2.997412   \n",
       "50%       0.066072    -0.230394     0.047532    -0.049348    -0.107041   \n",
       "75%       2.552037     2.803711     2.708727     2.447448     2.843110   \n",
       "max      15.032590    16.111301    15.714008    12.306674    13.780719   \n",
       "\n",
       "               5            6            7            8            9    ...  \\\n",
       "count  3000.000000  3000.000000  3000.000000  3000.000000  3000.000000  ...   \n",
       "mean      0.117347    -0.039048     0.114474     0.044872    -0.273285  ...   \n",
       "std       3.574587     3.483363     3.618069     3.788335     3.942744  ...   \n",
       "min     -11.637022   -11.371517   -11.465125   -12.121769   -13.076620  ...   \n",
       "25%      -2.264338    -2.397096    -2.313122    -2.551062    -2.970882  ...   \n",
       "50%       0.169055     0.030208     0.104231     0.076880    -0.345980  ...   \n",
       "75%       2.524324     2.222391     2.613596     2.578954     2.402805  ...   \n",
       "max      13.419085    11.455913    13.486082    12.982322    12.699667  ...   \n",
       "\n",
       "               990          991          992          993          994  \\\n",
       "count  3000.000000  3000.000000  3000.000000  3000.000000  3000.000000   \n",
       "mean      0.199922    -0.081698    -0.305270    -0.253691    -0.156283   \n",
       "std       3.765084     3.635644     3.893819     3.983983     4.217968   \n",
       "min     -12.712768   -12.215052   -13.770667   -13.976514   -13.798050   \n",
       "25%      -2.408313    -2.592606    -2.860098    -2.915069    -3.047389   \n",
       "50%       0.250727    -0.075801    -0.334877    -0.258272    -0.134922   \n",
       "75%       2.738860     2.395868     2.360812     2.382488     2.688209   \n",
       "max      12.152766    12.356390    15.642775    11.661964    15.316484   \n",
       "\n",
       "               995          996          997          998          999  \n",
       "count  3000.000000  3000.000000  3000.000000  3000.000000  3000.000000  \n",
       "mean      0.220097     0.180365     0.013587    -0.150563    -0.055067  \n",
       "std       3.666632     3.750295     4.153445     3.756964     3.754656  \n",
       "min     -13.305596   -12.454419   -13.902516   -12.612192   -12.459389  \n",
       "25%      -2.188809    -2.421133    -2.809797    -2.644983    -2.594263  \n",
       "50%       0.289483     0.188125    -0.057174    -0.133565    -0.052189  \n",
       "75%       2.767932     2.723239     2.859379     2.380350     2.446026  \n",
       "max      11.333246    12.320256    14.858969    13.468435    13.491570  \n",
       "\n",
       "[8 rows x 1000 columns]"
      ]
     },
     "execution_count": 175,
     "metadata": {},
     "output_type": "execute_result"
    }
   ],
   "source": [
    "df1 = df.describe()\n",
    "df1"
   ]
  },
  {
   "cell_type": "markdown",
   "metadata": {},
   "source": [
    "- The mean is not 0, so this matrix A is not centered. Get mean for each column to make it centered."
   ]
  },
  {
   "cell_type": "code",
   "execution_count": 58,
   "metadata": {},
   "outputs": [],
   "source": [
    "mean_ls = []\n",
    "\n",
    "for i in range(1000):\n",
    "    mean_ls.append(df1.iloc[1][i])"
   ]
  },
  {
   "cell_type": "markdown",
   "metadata": {},
   "source": [
    "## 2.  Construct covariance matrix A'\n",
    "- Subtract mean from each row to construct a covariance matrix"
   ]
  },
  {
   "cell_type": "code",
   "execution_count": 176,
   "metadata": {
    "scrolled": true
   },
   "outputs": [],
   "source": [
    "df2 = df.sub(mean_ls)"
   ]
  },
  {
   "cell_type": "code",
   "execution_count": 61,
   "metadata": {
    "scrolled": true
   },
   "outputs": [
    {
     "data": {
      "text/html": [
       "<div>\n",
       "<style scoped>\n",
       "    .dataframe tbody tr th:only-of-type {\n",
       "        vertical-align: middle;\n",
       "    }\n",
       "\n",
       "    .dataframe tbody tr th {\n",
       "        vertical-align: top;\n",
       "    }\n",
       "\n",
       "    .dataframe thead th {\n",
       "        text-align: right;\n",
       "    }\n",
       "</style>\n",
       "<table border=\"1\" class=\"dataframe\">\n",
       "  <thead>\n",
       "    <tr style=\"text-align: right;\">\n",
       "      <th></th>\n",
       "      <th>0</th>\n",
       "      <th>1</th>\n",
       "      <th>2</th>\n",
       "      <th>3</th>\n",
       "      <th>4</th>\n",
       "      <th>5</th>\n",
       "      <th>6</th>\n",
       "      <th>7</th>\n",
       "      <th>8</th>\n",
       "      <th>9</th>\n",
       "      <th>...</th>\n",
       "      <th>990</th>\n",
       "      <th>991</th>\n",
       "      <th>992</th>\n",
       "      <th>993</th>\n",
       "      <th>994</th>\n",
       "      <th>995</th>\n",
       "      <th>996</th>\n",
       "      <th>997</th>\n",
       "      <th>998</th>\n",
       "      <th>999</th>\n",
       "    </tr>\n",
       "  </thead>\n",
       "  <tbody>\n",
       "    <tr>\n",
       "      <th>count</th>\n",
       "      <td>3.000000e+03</td>\n",
       "      <td>3.000000e+03</td>\n",
       "      <td>3000.000000</td>\n",
       "      <td>3.000000e+03</td>\n",
       "      <td>3.000000e+03</td>\n",
       "      <td>3.000000e+03</td>\n",
       "      <td>3.000000e+03</td>\n",
       "      <td>3.000000e+03</td>\n",
       "      <td>3.000000e+03</td>\n",
       "      <td>3.000000e+03</td>\n",
       "      <td>...</td>\n",
       "      <td>3.000000e+03</td>\n",
       "      <td>3.000000e+03</td>\n",
       "      <td>3.000000e+03</td>\n",
       "      <td>3.000000e+03</td>\n",
       "      <td>3000.000000</td>\n",
       "      <td>3.000000e+03</td>\n",
       "      <td>3.000000e+03</td>\n",
       "      <td>3.000000e+03</td>\n",
       "      <td>3.000000e+03</td>\n",
       "      <td>3.000000e+03</td>\n",
       "    </tr>\n",
       "    <tr>\n",
       "      <th>mean</th>\n",
       "      <td>2.842171e-17</td>\n",
       "      <td>4.263256e-17</td>\n",
       "      <td>0.000000</td>\n",
       "      <td>-1.894781e-17</td>\n",
       "      <td>3.789561e-17</td>\n",
       "      <td>7.579123e-17</td>\n",
       "      <td>7.460699e-17</td>\n",
       "      <td>-8.526513e-17</td>\n",
       "      <td>-7.105427e-17</td>\n",
       "      <td>-5.684342e-17</td>\n",
       "      <td>...</td>\n",
       "      <td>-2.368476e-17</td>\n",
       "      <td>6.158037e-17</td>\n",
       "      <td>5.684342e-17</td>\n",
       "      <td>-5.684342e-17</td>\n",
       "      <td>0.000000</td>\n",
       "      <td>-7.105427e-17</td>\n",
       "      <td>4.263256e-17</td>\n",
       "      <td>-4.263256e-17</td>\n",
       "      <td>-5.684342e-17</td>\n",
       "      <td>-6.631732e-17</td>\n",
       "    </tr>\n",
       "    <tr>\n",
       "      <th>std</th>\n",
       "      <td>3.623396e+00</td>\n",
       "      <td>4.509088e+00</td>\n",
       "      <td>3.735008</td>\n",
       "      <td>3.424487e+00</td>\n",
       "      <td>4.203917e+00</td>\n",
       "      <td>3.574587e+00</td>\n",
       "      <td>3.483363e+00</td>\n",
       "      <td>3.618069e+00</td>\n",
       "      <td>3.788335e+00</td>\n",
       "      <td>3.942744e+00</td>\n",
       "      <td>...</td>\n",
       "      <td>3.765084e+00</td>\n",
       "      <td>3.635644e+00</td>\n",
       "      <td>3.893819e+00</td>\n",
       "      <td>3.983983e+00</td>\n",
       "      <td>4.217968</td>\n",
       "      <td>3.666632e+00</td>\n",
       "      <td>3.750295e+00</td>\n",
       "      <td>4.153445e+00</td>\n",
       "      <td>3.756964e+00</td>\n",
       "      <td>3.754656e+00</td>\n",
       "    </tr>\n",
       "    <tr>\n",
       "      <th>min</th>\n",
       "      <td>-1.139560e+01</td>\n",
       "      <td>-1.588891e+01</td>\n",
       "      <td>-12.076520</td>\n",
       "      <td>-1.121090e+01</td>\n",
       "      <td>-1.377023e+01</td>\n",
       "      <td>-1.175437e+01</td>\n",
       "      <td>-1.133247e+01</td>\n",
       "      <td>-1.157960e+01</td>\n",
       "      <td>-1.216664e+01</td>\n",
       "      <td>-1.280333e+01</td>\n",
       "      <td>...</td>\n",
       "      <td>-1.291269e+01</td>\n",
       "      <td>-1.213335e+01</td>\n",
       "      <td>-1.346540e+01</td>\n",
       "      <td>-1.372282e+01</td>\n",
       "      <td>-13.641767</td>\n",
       "      <td>-1.352569e+01</td>\n",
       "      <td>-1.263478e+01</td>\n",
       "      <td>-1.391610e+01</td>\n",
       "      <td>-1.246163e+01</td>\n",
       "      <td>-1.240432e+01</td>\n",
       "    </tr>\n",
       "    <tr>\n",
       "      <th>25%</th>\n",
       "      <td>-2.447515e+00</td>\n",
       "      <td>-3.196127e+00</td>\n",
       "      <td>-2.632683</td>\n",
       "      <td>-2.312815e+00</td>\n",
       "      <td>-2.964347e+00</td>\n",
       "      <td>-2.381685e+00</td>\n",
       "      <td>-2.358048e+00</td>\n",
       "      <td>-2.427596e+00</td>\n",
       "      <td>-2.595934e+00</td>\n",
       "      <td>-2.697597e+00</td>\n",
       "      <td>...</td>\n",
       "      <td>-2.608235e+00</td>\n",
       "      <td>-2.510908e+00</td>\n",
       "      <td>-2.554828e+00</td>\n",
       "      <td>-2.661378e+00</td>\n",
       "      <td>-2.891106</td>\n",
       "      <td>-2.408906e+00</td>\n",
       "      <td>-2.601498e+00</td>\n",
       "      <td>-2.823384e+00</td>\n",
       "      <td>-2.494420e+00</td>\n",
       "      <td>-2.539196e+00</td>\n",
       "    </tr>\n",
       "    <tr>\n",
       "      <th>50%</th>\n",
       "      <td>-1.576131e-02</td>\n",
       "      <td>4.675520e-02</td>\n",
       "      <td>-0.021809</td>\n",
       "      <td>-8.139739e-02</td>\n",
       "      <td>-7.397561e-02</td>\n",
       "      <td>5.170728e-02</td>\n",
       "      <td>6.925544e-02</td>\n",
       "      <td>-1.024347e-02</td>\n",
       "      <td>3.200828e-02</td>\n",
       "      <td>-7.269439e-02</td>\n",
       "      <td>...</td>\n",
       "      <td>5.080466e-02</td>\n",
       "      <td>5.896970e-03</td>\n",
       "      <td>-2.960704e-02</td>\n",
       "      <td>-4.581488e-03</td>\n",
       "      <td>0.021361</td>\n",
       "      <td>6.938661e-02</td>\n",
       "      <td>7.760243e-03</td>\n",
       "      <td>-7.076089e-02</td>\n",
       "      <td>1.699811e-02</td>\n",
       "      <td>2.878130e-03</td>\n",
       "    </tr>\n",
       "    <tr>\n",
       "      <th>75%</th>\n",
       "      <td>2.470204e+00</td>\n",
       "      <td>3.080860e+00</td>\n",
       "      <td>2.639386</td>\n",
       "      <td>2.415399e+00</td>\n",
       "      <td>2.876175e+00</td>\n",
       "      <td>2.406976e+00</td>\n",
       "      <td>2.261438e+00</td>\n",
       "      <td>2.499122e+00</td>\n",
       "      <td>2.534082e+00</td>\n",
       "      <td>2.676091e+00</td>\n",
       "      <td>...</td>\n",
       "      <td>2.538938e+00</td>\n",
       "      <td>2.477566e+00</td>\n",
       "      <td>2.666082e+00</td>\n",
       "      <td>2.636179e+00</td>\n",
       "      <td>2.844492</td>\n",
       "      <td>2.547835e+00</td>\n",
       "      <td>2.542874e+00</td>\n",
       "      <td>2.845792e+00</td>\n",
       "      <td>2.530912e+00</td>\n",
       "      <td>2.501093e+00</td>\n",
       "    </tr>\n",
       "    <tr>\n",
       "      <th>max</th>\n",
       "      <td>1.495076e+01</td>\n",
       "      <td>1.638845e+01</td>\n",
       "      <td>15.644667</td>\n",
       "      <td>1.227462e+01</td>\n",
       "      <td>1.381378e+01</td>\n",
       "      <td>1.330174e+01</td>\n",
       "      <td>1.149496e+01</td>\n",
       "      <td>1.337161e+01</td>\n",
       "      <td>1.293745e+01</td>\n",
       "      <td>1.297295e+01</td>\n",
       "      <td>...</td>\n",
       "      <td>1.195284e+01</td>\n",
       "      <td>1.243809e+01</td>\n",
       "      <td>1.594805e+01</td>\n",
       "      <td>1.191565e+01</td>\n",
       "      <td>15.472767</td>\n",
       "      <td>1.111315e+01</td>\n",
       "      <td>1.213989e+01</td>\n",
       "      <td>1.484538e+01</td>\n",
       "      <td>1.361900e+01</td>\n",
       "      <td>1.354664e+01</td>\n",
       "    </tr>\n",
       "  </tbody>\n",
       "</table>\n",
       "<p>8 rows × 1000 columns</p>\n",
       "</div>"
      ],
      "text/plain": [
       "                0             1            2             3             4    \\\n",
       "count  3.000000e+03  3.000000e+03  3000.000000  3.000000e+03  3.000000e+03   \n",
       "mean   2.842171e-17  4.263256e-17     0.000000 -1.894781e-17  3.789561e-17   \n",
       "std    3.623396e+00  4.509088e+00     3.735008  3.424487e+00  4.203917e+00   \n",
       "min   -1.139560e+01 -1.588891e+01   -12.076520 -1.121090e+01 -1.377023e+01   \n",
       "25%   -2.447515e+00 -3.196127e+00    -2.632683 -2.312815e+00 -2.964347e+00   \n",
       "50%   -1.576131e-02  4.675520e-02    -0.021809 -8.139739e-02 -7.397561e-02   \n",
       "75%    2.470204e+00  3.080860e+00     2.639386  2.415399e+00  2.876175e+00   \n",
       "max    1.495076e+01  1.638845e+01    15.644667  1.227462e+01  1.381378e+01   \n",
       "\n",
       "                5             6             7             8             9    \\\n",
       "count  3.000000e+03  3.000000e+03  3.000000e+03  3.000000e+03  3.000000e+03   \n",
       "mean   7.579123e-17  7.460699e-17 -8.526513e-17 -7.105427e-17 -5.684342e-17   \n",
       "std    3.574587e+00  3.483363e+00  3.618069e+00  3.788335e+00  3.942744e+00   \n",
       "min   -1.175437e+01 -1.133247e+01 -1.157960e+01 -1.216664e+01 -1.280333e+01   \n",
       "25%   -2.381685e+00 -2.358048e+00 -2.427596e+00 -2.595934e+00 -2.697597e+00   \n",
       "50%    5.170728e-02  6.925544e-02 -1.024347e-02  3.200828e-02 -7.269439e-02   \n",
       "75%    2.406976e+00  2.261438e+00  2.499122e+00  2.534082e+00  2.676091e+00   \n",
       "max    1.330174e+01  1.149496e+01  1.337161e+01  1.293745e+01  1.297295e+01   \n",
       "\n",
       "       ...           990           991           992           993  \\\n",
       "count  ...  3.000000e+03  3.000000e+03  3.000000e+03  3.000000e+03   \n",
       "mean   ... -2.368476e-17  6.158037e-17  5.684342e-17 -5.684342e-17   \n",
       "std    ...  3.765084e+00  3.635644e+00  3.893819e+00  3.983983e+00   \n",
       "min    ... -1.291269e+01 -1.213335e+01 -1.346540e+01 -1.372282e+01   \n",
       "25%    ... -2.608235e+00 -2.510908e+00 -2.554828e+00 -2.661378e+00   \n",
       "50%    ...  5.080466e-02  5.896970e-03 -2.960704e-02 -4.581488e-03   \n",
       "75%    ...  2.538938e+00  2.477566e+00  2.666082e+00  2.636179e+00   \n",
       "max    ...  1.195284e+01  1.243809e+01  1.594805e+01  1.191565e+01   \n",
       "\n",
       "               994           995           996           997           998  \\\n",
       "count  3000.000000  3.000000e+03  3.000000e+03  3.000000e+03  3.000000e+03   \n",
       "mean      0.000000 -7.105427e-17  4.263256e-17 -4.263256e-17 -5.684342e-17   \n",
       "std       4.217968  3.666632e+00  3.750295e+00  4.153445e+00  3.756964e+00   \n",
       "min     -13.641767 -1.352569e+01 -1.263478e+01 -1.391610e+01 -1.246163e+01   \n",
       "25%      -2.891106 -2.408906e+00 -2.601498e+00 -2.823384e+00 -2.494420e+00   \n",
       "50%       0.021361  6.938661e-02  7.760243e-03 -7.076089e-02  1.699811e-02   \n",
       "75%       2.844492  2.547835e+00  2.542874e+00  2.845792e+00  2.530912e+00   \n",
       "max      15.472767  1.111315e+01  1.213989e+01  1.484538e+01  1.361900e+01   \n",
       "\n",
       "                999  \n",
       "count  3.000000e+03  \n",
       "mean  -6.631732e-17  \n",
       "std    3.754656e+00  \n",
       "min   -1.240432e+01  \n",
       "25%   -2.539196e+00  \n",
       "50%    2.878130e-03  \n",
       "75%    2.501093e+00  \n",
       "max    1.354664e+01  \n",
       "\n",
       "[8 rows x 1000 columns]"
      ]
     },
     "execution_count": 61,
     "metadata": {},
     "output_type": "execute_result"
    }
   ],
   "source": [
    "df2.describe()"
   ]
  },
  {
   "cell_type": "markdown",
   "metadata": {},
   "source": [
    "- From above dataframe, we can see the mean is now all 0 and thus the matrix df2 is centered and we define it as a covariance matrix A'."
   ]
  },
  {
   "cell_type": "markdown",
   "metadata": {},
   "source": [
    "## 3. Construct $S = (A')^T A'$ "
   ]
  },
  {
   "cell_type": "code",
   "execution_count": 73,
   "metadata": {
    "scrolled": true
   },
   "outputs": [],
   "source": [
    "df_s = pd.DataFrame(np.cov(df2.T))"
   ]
  },
  {
   "cell_type": "code",
   "execution_count": 75,
   "metadata": {
    "scrolled": true
   },
   "outputs": [
    {
     "data": {
      "text/plain": [
       "(1000, 1000)"
      ]
     },
     "execution_count": 75,
     "metadata": {},
     "output_type": "execute_result"
    }
   ],
   "source": [
    "df_s.shape"
   ]
  },
  {
   "cell_type": "markdown",
   "metadata": {},
   "source": [
    "## 4. Compute \"eigenthings\" of S\n",
    "- w = eigenvalues of S\n",
    "- v = eigenvectors of S associated with w"
   ]
  },
  {
   "cell_type": "code",
   "execution_count": 177,
   "metadata": {
    "scrolled": true
   },
   "outputs": [],
   "source": [
    "w, v = np.linalg.eigh(df_s)"
   ]
  },
  {
   "cell_type": "code",
   "execution_count": 77,
   "metadata": {
    "scrolled": true
   },
   "outputs": [
    {
     "data": {
      "text/plain": [
       "((1000,), (1000, 1000))"
      ]
     },
     "execution_count": 77,
     "metadata": {},
     "output_type": "execute_result"
    }
   ],
   "source": [
    "w.shape, v.shape"
   ]
  },
  {
   "cell_type": "code",
   "execution_count": 104,
   "metadata": {
    "scrolled": true
   },
   "outputs": [
    {
     "data": {
      "text/html": [
       "<div>\n",
       "<style scoped>\n",
       "    .dataframe tbody tr th:only-of-type {\n",
       "        vertical-align: middle;\n",
       "    }\n",
       "\n",
       "    .dataframe tbody tr th {\n",
       "        vertical-align: top;\n",
       "    }\n",
       "\n",
       "    .dataframe thead th {\n",
       "        text-align: right;\n",
       "    }\n",
       "</style>\n",
       "<table border=\"1\" class=\"dataframe\">\n",
       "  <thead>\n",
       "    <tr style=\"text-align: right;\">\n",
       "      <th></th>\n",
       "      <th>0</th>\n",
       "      <th>1</th>\n",
       "      <th>2</th>\n",
       "      <th>3</th>\n",
       "      <th>4</th>\n",
       "      <th>5</th>\n",
       "      <th>6</th>\n",
       "      <th>7</th>\n",
       "      <th>8</th>\n",
       "      <th>9</th>\n",
       "      <th>...</th>\n",
       "      <th>990</th>\n",
       "      <th>991</th>\n",
       "      <th>992</th>\n",
       "      <th>993</th>\n",
       "      <th>994</th>\n",
       "      <th>995</th>\n",
       "      <th>996</th>\n",
       "      <th>997</th>\n",
       "      <th>998</th>\n",
       "      <th>999</th>\n",
       "    </tr>\n",
       "  </thead>\n",
       "  <tbody>\n",
       "    <tr>\n",
       "      <th>eigenvalues</th>\n",
       "      <td>-1.164596e-13</td>\n",
       "      <td>-5.522409e-14</td>\n",
       "      <td>-5.387324e-14</td>\n",
       "      <td>-5.254635e-14</td>\n",
       "      <td>-4.976673e-14</td>\n",
       "      <td>-4.889480e-14</td>\n",
       "      <td>-4.805071e-14</td>\n",
       "      <td>-4.795805e-14</td>\n",
       "      <td>-4.581819e-14</td>\n",
       "      <td>-4.575792e-14</td>\n",
       "      <td>...</td>\n",
       "      <td>93.960337</td>\n",
       "      <td>95.482156</td>\n",
       "      <td>95.907901</td>\n",
       "      <td>96.920384</td>\n",
       "      <td>97.652763</td>\n",
       "      <td>97.959284</td>\n",
       "      <td>98.004916</td>\n",
       "      <td>99.514388</td>\n",
       "      <td>414.774916</td>\n",
       "      <td>1490.455358</td>\n",
       "    </tr>\n",
       "  </tbody>\n",
       "</table>\n",
       "<p>1 rows × 1000 columns</p>\n",
       "</div>"
      ],
      "text/plain": [
       "                      0             1             2             3    \\\n",
       "eigenvalues -1.164596e-13 -5.522409e-14 -5.387324e-14 -5.254635e-14   \n",
       "\n",
       "                      4             5             6             7    \\\n",
       "eigenvalues -4.976673e-14 -4.889480e-14 -4.805071e-14 -4.795805e-14   \n",
       "\n",
       "                      8             9    ...        990        991        992  \\\n",
       "eigenvalues -4.581819e-14 -4.575792e-14  ...  93.960337  95.482156  95.907901   \n",
       "\n",
       "                   993        994        995        996        997  \\\n",
       "eigenvalues  96.920384  97.652763  97.959284  98.004916  99.514388   \n",
       "\n",
       "                    998          999  \n",
       "eigenvalues  414.774916  1490.455358  \n",
       "\n",
       "[1 rows x 1000 columns]"
      ]
     },
     "execution_count": 104,
     "metadata": {},
     "output_type": "execute_result"
    }
   ],
   "source": [
    "df_w = pd.DataFrame(w, columns=[\"eigenvalues\"])\n",
    "df_w = df_w.T\n",
    "df_w"
   ]
  },
  {
   "cell_type": "code",
   "execution_count": 178,
   "metadata": {},
   "outputs": [],
   "source": [
    "df_v = pd.DataFrame(v)"
   ]
  },
  {
   "cell_type": "code",
   "execution_count": 183,
   "metadata": {},
   "outputs": [],
   "source": [
    "#df_eig = dataframe containing eigenvalues and eigenvectors associated with eigenvalues.\n",
    "df_eig = pd.concat([df_w, df_v], axis=0, sort=False)"
   ]
  },
  {
   "cell_type": "markdown",
   "metadata": {},
   "source": [
    "## 5. Choose 10 largest eigenvalues"
   ]
  },
  {
   "cell_type": "code",
   "execution_count": 78,
   "metadata": {},
   "outputs": [
    {
     "data": {
      "text/plain": [
       "[1490.4553582100955,\n",
       " 414.77491579693793,\n",
       " 99.51438804344895,\n",
       " 98.00491635127527,\n",
       " 97.95928405888455,\n",
       " 97.652763275715,\n",
       " 96.92038390711134,\n",
       " 95.90790073912031,\n",
       " 95.48215622069068,\n",
       " 93.96033711222164]"
      ]
     },
     "execution_count": 78,
     "metadata": {},
     "output_type": "execute_result"
    }
   ],
   "source": [
    "ten_w = heapq.nlargest(10,w)\n",
    "ten_w"
   ]
  },
  {
   "cell_type": "code",
   "execution_count": 186,
   "metadata": {
    "scrolled": true
   },
   "outputs": [
    {
     "data": {
      "text/plain": [
       "Text(0.5, 1.0, 'Top 10 Largest Eigenvalues')"
      ]
     },
     "execution_count": 186,
     "metadata": {},
     "output_type": "execute_result"
    },
    {
     "data": {
      "image/png": "[encoded data removed]",
      "text/plain": [
       "<Figure size 432x288 with 1 Axes>"
      ]
     },
     "metadata": {
      "image/png": {
       "height": 281,
       "width": 383
      },
      "needs_background": "light"
     },
     "output_type": "display_data"
    }
   ],
   "source": [
    "plt.bar(x=np.array(list(\"0123456789\")), height=ten_w)\n",
    "plt.xlabel(\"$\\lambda$\")\n",
    "plt.title(\"Top 10 Largest Eigenvalues\")"
   ]
  },
  {
   "cell_type": "markdown",
   "metadata": {},
   "source": [
    "- It looks like the first two largest eigenvalues $\\lambda_0, \\lambda_1$ capture most of the features."
   ]
  },
  {
   "cell_type": "code",
   "execution_count": 88,
   "metadata": {},
   "outputs": [
    {
     "data": {
      "text/plain": [
       "[1490.4553582100955, 414.77491579693793]"
      ]
     },
     "execution_count": 88,
     "metadata": {},
     "output_type": "execute_result"
    }
   ],
   "source": [
    "#get the first two largest eigenvalues\n",
    "w_result = ten_w[:2]\n",
    "w_result"
   ]
  },
  {
   "cell_type": "code",
   "execution_count": 117,
   "metadata": {},
   "outputs": [
    {
     "name": "stdout",
     "output_type": "stream",
     "text": [
      "Int64Index([999], dtype='int64')\n",
      "Int64Index([998], dtype='int64')\n"
     ]
    }
   ],
   "source": [
    "#find columns that contain eigenvectors associated with two chosen eigenvalues\n",
    "for w in w_result:\n",
    "    print(df_eig.columns[df_eig.eq(w).any()])"
   ]
  },
  {
   "cell_type": "code",
   "execution_count": 181,
   "metadata": {
    "scrolled": true
   },
   "outputs": [],
   "source": [
    "#Get eigenvectors associated with two chosen eigenvalues\n",
    "df_w_result = df_eig.loc[:, \"998\": \"999\"][1:]"
   ]
  },
  {
   "cell_type": "markdown",
   "metadata": {},
   "source": [
    "## 6. Feature selection with eigenvectors associated with two chosen $\\lambda_0 \\ and \\ \\lambda_1 $"
   ]
  },
  {
   "cell_type": "code",
   "execution_count": 182,
   "metadata": {
    "scrolled": true
   },
   "outputs": [],
   "source": [
    "df_result = df2.dot(df_w_result)"
   ]
  },
  {
   "cell_type": "markdown",
   "metadata": {},
   "source": [
    "## 7. PCA Plotting"
   ]
  },
  {
   "cell_type": "code",
   "execution_count": 172,
   "metadata": {},
   "outputs": [
    {
     "data": {
      "image/png": "[encoded data removed]",
      "text/plain": [
       "<Figure size 432x288 with 1 Axes>"
      ]
     },
     "metadata": {
      "image/png": {
       "height": 252,
       "width": 377
      },
      "needs_background": "light"
     },
     "output_type": "display_data"
    }
   ],
   "source": [
    "from matplotlib import pyplot, transforms\n",
    "\n",
    "base = pyplot.gca().transData\n",
    "rot = transforms.Affine2D().rotate_deg(270)\n",
    "plt.scatter(df_result[998], df_result[999], transform= rot+base)\n",
    "\n",
    "pyplot.show()"
   ]
  }
 ],
 "metadata": {
  "kernelspec": {
   "display_name": "Python 3",
   "language": "python",
   "name": "python3"
  },
  "language_info": {
   "codemirror_mode": {
    "name": "ipython",
    "version": 3
   },
   "file_extension": ".py",
   "mimetype": "text/x-python",
   "name": "python",
   "nbconvert_exporter": "python",
   "pygments_lexer": "ipython3",
   "version": "3.7.3"
  }
 },
 "nbformat": 4,
 "nbformat_minor": 2
}
